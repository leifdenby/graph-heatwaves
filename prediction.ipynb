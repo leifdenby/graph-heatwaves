{
 "cells": [
  {
   "cell_type": "code",
   "execution_count": 1,
   "metadata": {},
   "outputs": [],
   "source": [
    "%load_ext lab_black"
   ]
  },
  {
   "cell_type": "code",
   "execution_count": 3,
   "metadata": {},
   "outputs": [
    {
     "ename": "FileNotFoundError",
     "evalue": "[Errno 2] No such file or directory: './trainedModel/33_metadata.pkl'",
     "output_type": "error",
     "traceback": [
      "\u001b[0;31m---------------------------------------------------------------------------\u001b[0m",
      "\u001b[0;31mFileNotFoundError\u001b[0m                         Traceback (most recent call last)",
      "Cell \u001b[0;32mIn[3], line 18\u001b[0m\n\u001b[1;32m     15\u001b[0m modelPath \u001b[39m=\u001b[39m \u001b[39mf\u001b[39m\u001b[39m\"\u001b[39m\u001b[39m{\u001b[39;00mmodelIdx\u001b[39m}\u001b[39;00m\u001b[39m.pt\u001b[39m\u001b[39m\"\u001b[39m\n\u001b[1;32m     16\u001b[0m paraPath \u001b[39m=\u001b[39m \u001b[39mf\u001b[39m\u001b[39m\"\u001b[39m\u001b[39m{\u001b[39;00mmodelIdx\u001b[39m}\u001b[39;00m\u001b[39m_para.pkl\u001b[39m\u001b[39m\"\u001b[39m\n\u001b[0;32m---> 18\u001b[0m \u001b[39mwith\u001b[39;00m \u001b[39mopen\u001b[39;49m(path \u001b[39m+\u001b[39;49m metaPath, \u001b[39m\"\u001b[39;49m\u001b[39mrb\u001b[39;49m\u001b[39m\"\u001b[39;49m) \u001b[39mas\u001b[39;00m f:\n\u001b[1;32m     19\u001b[0m     metadata \u001b[39m=\u001b[39m pickle\u001b[39m.\u001b[39mload(f)\n\u001b[1;32m     20\u001b[0m \u001b[39mwith\u001b[39;00m \u001b[39mopen\u001b[39m(path \u001b[39m+\u001b[39m paraPath, \u001b[39m\"\u001b[39m\u001b[39mrb\u001b[39m\u001b[39m\"\u001b[39m) \u001b[39mas\u001b[39;00m f:\n",
      "File \u001b[0;32m~/git-repos/graph-heatwaves/.venv/lib/python3.9/site-packages/IPython/core/interactiveshell.py:310\u001b[0m, in \u001b[0;36m_modified_open\u001b[0;34m(file, *args, **kwargs)\u001b[0m\n\u001b[1;32m    303\u001b[0m \u001b[39mif\u001b[39;00m file \u001b[39min\u001b[39;00m {\u001b[39m0\u001b[39m, \u001b[39m1\u001b[39m, \u001b[39m2\u001b[39m}:\n\u001b[1;32m    304\u001b[0m     \u001b[39mraise\u001b[39;00m \u001b[39mValueError\u001b[39;00m(\n\u001b[1;32m    305\u001b[0m         \u001b[39mf\u001b[39m\u001b[39m\"\u001b[39m\u001b[39mIPython won\u001b[39m\u001b[39m'\u001b[39m\u001b[39mt let you open fd=\u001b[39m\u001b[39m{\u001b[39;00mfile\u001b[39m}\u001b[39;00m\u001b[39m by default \u001b[39m\u001b[39m\"\u001b[39m\n\u001b[1;32m    306\u001b[0m         \u001b[39m\"\u001b[39m\u001b[39mas it is likely to crash IPython. If you know what you are doing, \u001b[39m\u001b[39m\"\u001b[39m\n\u001b[1;32m    307\u001b[0m         \u001b[39m\"\u001b[39m\u001b[39myou can use builtins\u001b[39m\u001b[39m'\u001b[39m\u001b[39m open.\u001b[39m\u001b[39m\"\u001b[39m\n\u001b[1;32m    308\u001b[0m     )\n\u001b[0;32m--> 310\u001b[0m \u001b[39mreturn\u001b[39;00m io_open(file, \u001b[39m*\u001b[39;49margs, \u001b[39m*\u001b[39;49m\u001b[39m*\u001b[39;49mkwargs)\n",
      "\u001b[0;31mFileNotFoundError\u001b[0m: [Errno 2] No such file or directory: './trainedModel/33_metadata.pkl'"
     ]
    }
   ],
   "source": [
    "import numpy as np\n",
    "import networkx as nx\n",
    "from graph_heatwaves import data, network\n",
    "import torch, pickle\n",
    "import matplotlib.pyplot as plt\n",
    "import torch_geometric.utils as utils\n",
    "import torch.nn.functional as F\n",
    "from torch_geometric.utils import to_networkx\n",
    "from torch_geometric.loader import DataLoader as batchLoader\n",
    "\n",
    "device = \"cpu\"\n",
    "for modelIdx in range(33, 49):\n",
    "    path = \"./trainedModel/\"\n",
    "    metaPath = f\"{modelIdx}_metadata.pkl\"\n",
    "    modelPath = f\"{modelIdx}.pt\"\n",
    "    paraPath = f\"{modelIdx}_para.pkl\"\n",
    "\n",
    "    with open(path + metaPath, \"rb\") as f:\n",
    "        metadata = pickle.load(f)\n",
    "    with open(path + paraPath, \"rb\") as f:\n",
    "        modelPara, paraDict = pickle.load(f)\n",
    "    paraDict[\"device\"] = torch.device(device)\n",
    "    checkPoint = torch.load(path + modelPath, map_location=torch.device(device))\n",
    "    model = network.modelSelect(modelPara).to(device)\n",
    "    model.load_state_dict(checkPoint[\"model_state_dict\"])\n",
    "    model.eval()\n",
    "    print(\"Model loaded.\")\n",
    "\n",
    "    FTG = data.FTGenerator(paraDict, metadata)\n",
    "    Dataset, metadata = FTG.createDataset()\n",
    "    _, location = FTG._constructRawData()\n",
    "    testSet = Dataset[-730:]\n",
    "    # testSet = [Dataset[-1]]\n",
    "    nClass = metadata[\"nClass\"]\n",
    "    nNodes = testSet[0].x.shape[0]\n",
    "    print(f\"Model {modelIdx}. Test dataset loaded.\")\n",
    "\n",
    "    testLoader = batchLoader(testSet, batch_size=len(testSet), shuffle=False)\n",
    "\n",
    "    for batch in testLoader:\n",
    "        _yHat, _weights = model(batch.x, batch.edge_index, batch.edge_attr)\n",
    "        # Pick the last three days only\n",
    "        _yHat = _yHat[:, -6:]\n",
    "        _truth = batch.y[:, -3:].reshape(-1)\n",
    "        _yHat = _yHat.reshape(-1, nClass)\n",
    "        _pred = torch.argmax(_yHat, axis=-1)\n",
    "        _correct = _pred == _truth\n",
    "\n",
    "        _accu = int(_correct.sum()) / len(_truth)\n",
    "\n",
    "        _tP = (_truth == 1).reshape(-1, nNodes)\n",
    "        _tN = (_truth == 0).reshape(-1, nNodes)\n",
    "        _pP = (_pred == 1).reshape(-1, nNodes)\n",
    "        _pN = (_pred == 0).reshape(-1, nNodes)\n",
    "\n",
    "        _TP = torch.sum(_tP & _pP, axis=0)\n",
    "        _FN = torch.sum(_tP & _pN, axis=0)\n",
    "        _FP = torch.sum(_tN & _pP, axis=0)\n",
    "        _TN = torch.sum(_tN & _pN, axis=0)\n",
    "\n",
    "        _recall = _TP / (_TP + _FN)\n",
    "        _prec = _TP / (_TP + _FP)\n",
    "        _f1 = 2 * _TP / (2 * _TP + _FP + _FN)\n",
    "        print(_accu, _recall.mean().item(), _prec.mean().item(), _f1.mean().item())\n",
    "        with open(\"record2\", \"a\") as f:\n",
    "            print(\n",
    "                _accu,\n",
    "                _recall.mean().item(),\n",
    "                _prec.mean().item(),\n",
    "                _f1.mean().item(),\n",
    "                file=f,\n",
    "            )"
   ]
  },
  {
   "cell_type": "code",
   "execution_count": null,
   "metadata": {},
   "outputs": [],
   "source": []
  }
 ],
 "metadata": {
  "kernelspec": {
   "display_name": "Python 3.9.9 64-bit",
   "language": "python",
   "name": "python3"
  },
  "language_info": {
   "codemirror_mode": {
    "name": "ipython",
    "version": 3
   },
   "file_extension": ".py",
   "mimetype": "text/x-python",
   "name": "python",
   "nbconvert_exporter": "python",
   "pygments_lexer": "ipython3",
   "version": "3.9.16"
  },
  "orig_nbformat": 4,
  "vscode": {
   "interpreter": {
    "hash": "b0fa6594d8f4cbf19f97940f81e996739fb7646882a419484c72d19e05852a7e"
   }
  }
 },
 "nbformat": 4,
 "nbformat_minor": 2
}
